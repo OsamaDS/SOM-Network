{
 "cells": [
  {
   "cell_type": "code",
   "execution_count": 1,
   "id": "d0a1a500",
   "metadata": {},
   "outputs": [
    {
     "name": "stderr",
     "output_type": "stream",
     "text": [
      "c:\\Users\\UsamaAbid\\anaconda3\\Lib\\site-packages\\pandas\\core\\arrays\\masked.py:60: UserWarning: Pandas requires version '1.3.6' or newer of 'bottleneck' (version '1.3.5' currently installed).\n",
      "  from pandas.core import (\n"
     ]
    }
   ],
   "source": [
    "import pandas as pd\n",
    "import numpy as np\n",
    "\n",
    "df = pd.read_csv(r\"C:\\Users\\UsamaAbid\\Documents\\Personal Projects\\Mantel Group\\data\\Mall_Customers.csv\")"
   ]
  },
  {
   "cell_type": "code",
   "execution_count": 2,
   "id": "fd04402d",
   "metadata": {},
   "outputs": [
    {
     "data": {
      "text/html": [
       "<div>\n",
       "<style scoped>\n",
       "    .dataframe tbody tr th:only-of-type {\n",
       "        vertical-align: middle;\n",
       "    }\n",
       "\n",
       "    .dataframe tbody tr th {\n",
       "        vertical-align: top;\n",
       "    }\n",
       "\n",
       "    .dataframe thead th {\n",
       "        text-align: right;\n",
       "    }\n",
       "</style>\n",
       "<table border=\"1\" class=\"dataframe\">\n",
       "  <thead>\n",
       "    <tr style=\"text-align: right;\">\n",
       "      <th></th>\n",
       "      <th>CustomerID</th>\n",
       "      <th>Gender</th>\n",
       "      <th>Age</th>\n",
       "      <th>Annual Income (k$)</th>\n",
       "      <th>Spending Score (1-100)</th>\n",
       "    </tr>\n",
       "  </thead>\n",
       "  <tbody>\n",
       "    <tr>\n",
       "      <th>0</th>\n",
       "      <td>1</td>\n",
       "      <td>Male</td>\n",
       "      <td>19</td>\n",
       "      <td>15</td>\n",
       "      <td>39</td>\n",
       "    </tr>\n",
       "    <tr>\n",
       "      <th>1</th>\n",
       "      <td>2</td>\n",
       "      <td>Male</td>\n",
       "      <td>21</td>\n",
       "      <td>15</td>\n",
       "      <td>81</td>\n",
       "    </tr>\n",
       "    <tr>\n",
       "      <th>2</th>\n",
       "      <td>3</td>\n",
       "      <td>Female</td>\n",
       "      <td>20</td>\n",
       "      <td>16</td>\n",
       "      <td>6</td>\n",
       "    </tr>\n",
       "    <tr>\n",
       "      <th>3</th>\n",
       "      <td>4</td>\n",
       "      <td>Female</td>\n",
       "      <td>23</td>\n",
       "      <td>16</td>\n",
       "      <td>77</td>\n",
       "    </tr>\n",
       "    <tr>\n",
       "      <th>4</th>\n",
       "      <td>5</td>\n",
       "      <td>Female</td>\n",
       "      <td>31</td>\n",
       "      <td>17</td>\n",
       "      <td>40</td>\n",
       "    </tr>\n",
       "  </tbody>\n",
       "</table>\n",
       "</div>"
      ],
      "text/plain": [
       "   CustomerID  Gender  Age  Annual Income (k$)  Spending Score (1-100)\n",
       "0           1    Male   19                  15                      39\n",
       "1           2    Male   21                  15                      81\n",
       "2           3  Female   20                  16                       6\n",
       "3           4  Female   23                  16                      77\n",
       "4           5  Female   31                  17                      40"
      ]
     },
     "execution_count": 2,
     "metadata": {},
     "output_type": "execute_result"
    }
   ],
   "source": [
    "df.head()"
   ]
  },
  {
   "cell_type": "code",
   "execution_count": 3,
   "id": "57b4048f",
   "metadata": {},
   "outputs": [
    {
     "data": {
      "text/plain": [
       "(200, 5)"
      ]
     },
     "execution_count": 3,
     "metadata": {},
     "output_type": "execute_result"
    }
   ],
   "source": [
    "df.shape"
   ]
  },
  {
   "cell_type": "code",
   "execution_count": 4,
   "id": "b3757684",
   "metadata": {},
   "outputs": [],
   "source": [
    "df.drop(columns=['CustomerID'], inplace=True, axis=1)"
   ]
  },
  {
   "cell_type": "code",
   "execution_count": 6,
   "id": "57426b2a",
   "metadata": {},
   "outputs": [],
   "source": [
    "df['Gender'] = df['Gender'].map({'Male': 0, 'Female': 1})"
   ]
  },
  {
   "cell_type": "code",
   "execution_count": 7,
   "id": "fa2ca262",
   "metadata": {},
   "outputs": [
    {
     "data": {
      "text/plain": [
       "Gender                    0\n",
       "Age                       0\n",
       "Annual Income (k$)        0\n",
       "Spending Score (1-100)    0\n",
       "dtype: int64"
      ]
     },
     "execution_count": 7,
     "metadata": {},
     "output_type": "execute_result"
    }
   ],
   "source": [
    "df.isnull().sum()"
   ]
  },
  {
   "cell_type": "code",
   "execution_count": 33,
   "id": "e76e7cf2",
   "metadata": {},
   "outputs": [],
   "source": [
    "import matplotlib.pyplot as plt\n",
    "import numpy as np\n",
    "\n",
    "def train(input_data, n_max_iterations, width, height):\n",
    "    σ0 = max(width, height) / 2\n",
    "    α0 = 0.5\n",
    "    weights = np.random.random((width, height, input_data.shape[1]))\n",
    "    λ = n_max_iterations / np.log(σ0)\n",
    "\n",
    "    # Precompute grid coordinates\n",
    "    X, Y = np.meshgrid(np.arange(width), np.arange(height), indexing='ij')\n",
    "    grid = np.stack([X, Y], axis=2)  # shape: (width, height, 2)\n",
    "\n",
    "    for t in range(n_max_iterations):\n",
    "        σt = σ0 * np.exp(-t / λ)\n",
    "        αt = α0 * np.exp(-t / λ)\n",
    "\n",
    "        for vt in input_data:\n",
    "            # Find BMU\n",
    "            diff = weights - vt\n",
    "            distances = np.sum(diff**2, axis=2)\n",
    "            bmu_index = np.argmin(distances)\n",
    "            bmu_coords = np.unravel_index(bmu_index, (width, height))\n",
    "\n",
    "            # Compute distance of all neurons to BMU\n",
    "            d_grid = np.sum((grid - bmu_coords)**2, axis=2)  # shape: (width, height)\n",
    "\n",
    "            # Compute neighborhood influence\n",
    "            θt = np.exp(-d_grid / (2 * σt**2))  # shape: (width, height)\n",
    "            θt = θt[..., np.newaxis]  # shape: (width, height, 1) for broadcasting\n",
    "\n",
    "            # Update weights\n",
    "            weights += αt * θt * (vt - weights)\n",
    "\n",
    "    return weights\n"
   ]
  },
  {
   "cell_type": "code",
   "execution_count": 9,
   "id": "5fed7ae5",
   "metadata": {},
   "outputs": [],
   "source": [
    "input_data = np.array(df[['Age', 'Annual Income (k$)', 'Spending Score (1-100)']].values, dtype=np.float32)"
   ]
  },
  {
   "cell_type": "code",
   "execution_count": 11,
   "id": "acb0879b",
   "metadata": {},
   "outputs": [
    {
     "data": {
      "text/plain": [
       "(200, 3)"
      ]
     },
     "execution_count": 11,
     "metadata": {},
     "output_type": "execute_result"
    }
   ],
   "source": [
    "#Load and fit MinMax Scaler\n",
    "from sklearn.preprocessing import MinMaxScaler\n",
    "scaler = MinMaxScaler()\n",
    "input_data = scaler.fit_transform(input_data)\n",
    "\n",
    "input_data.shape"
   ]
  },
  {
   "cell_type": "code",
   "execution_count": 12,
   "id": "dfd67b60",
   "metadata": {},
   "outputs": [
    {
     "data": {
      "text/plain": [
       "(200, 3)"
      ]
     },
     "execution_count": 12,
     "metadata": {},
     "output_type": "execute_result"
    }
   ],
   "source": [
    "input_data.shape"
   ]
  },
  {
   "cell_type": "code",
   "execution_count": 13,
   "id": "1c265990",
   "metadata": {},
   "outputs": [],
   "source": [
    "som_weights = train(input_data, 5000, 15, 15)\n",
    "plt.imsave('cutomer.png', som_weights)"
   ]
  },
  {
   "cell_type": "code",
   "execution_count": 14,
   "id": "2bb8b738",
   "metadata": {},
   "outputs": [
    {
     "data": {
      "image/png": "[encoded data removed]",
      "text/plain": [
       "<Figure size 600x600 with 1 Axes>"
      ]
     },
     "metadata": {},
     "output_type": "display_data"
    }
   ],
   "source": [
    "image = som_weights / np.max(som_weights)\n",
    "\n",
    "# Plot the SOM as an image\n",
    "plt.figure(figsize=(6, 6))\n",
    "plt.imshow(image, aspect='auto')\n",
    "plt.title(\"SOM Grid Visualization (15x15)\")\n",
    "plt.axis('off')\n",
    "plt.tight_layout()\n",
    "plt.show()"
   ]
  },
  {
   "cell_type": "code",
   "execution_count": 15,
   "id": "8afff175",
   "metadata": {},
   "outputs": [
    {
     "data": {
      "image/png": "[encoded data removed]",
      "text/plain": [
       "<Figure size 600x600 with 2 Axes>"
      ]
     },
     "metadata": {},
     "output_type": "display_data"
    }
   ],
   "source": [
    "# Function to find BMU for each input vector\n",
    "def find_bmu(input_vector, som_weights):\n",
    "    distances = np.linalg.norm(som_weights - input_vector, axis=2)\n",
    "    return np.unravel_index(np.argmin(distances), distances.shape)\n",
    "\n",
    "# Create hit map\n",
    "hit_map = np.zeros((15, 15))\n",
    "\n",
    "# Count how many times each neuron is the BMU\n",
    "for vector in input_data:\n",
    "    bmu_x, bmu_y = find_bmu(vector, som_weights)\n",
    "    hit_map[bmu_x, bmu_y] += 1\n",
    "\n",
    "# Plot hit map\n",
    "plt.figure(figsize=(6, 6))\n",
    "plt.imshow(hit_map, cmap='Oranges', interpolation='nearest')\n",
    "plt.colorbar(label='Number of customers')\n",
    "plt.title('Customer Cluster Heatmap (BMU Hits)')\n",
    "plt.xlabel('Neuron X')\n",
    "plt.ylabel('Neuron Y')\n",
    "plt.tight_layout()\n",
    "plt.show()"
   ]
  },
  {
   "cell_type": "code",
   "execution_count": 16,
   "id": "6ff4dabf",
   "metadata": {},
   "outputs": [],
   "source": [
    "# Apply Kmeans\n",
    "width, height, features = 15, 15, 3\n",
    "flattened_weights = som_weights.reshape(-1, features)"
   ]
  },
  {
   "cell_type": "code",
   "execution_count": 17,
   "id": "92ba5963",
   "metadata": {},
   "outputs": [
    {
     "data": {
      "text/plain": [
       "(225, 3)"
      ]
     },
     "execution_count": 17,
     "metadata": {},
     "output_type": "execute_result"
    }
   ],
   "source": [
    "flattened_weights.shape"
   ]
  },
  {
   "cell_type": "code",
   "execution_count": 19,
   "id": "56b10532",
   "metadata": {},
   "outputs": [
    {
     "name": "stderr",
     "output_type": "stream",
     "text": [
      "c:\\Users\\UsamaAbid\\anaconda3\\Lib\\site-packages\\sklearn\\cluster\\_kmeans.py:1436: UserWarning: KMeans is known to have a memory leak on Windows with MKL, when there are less chunks than available threads. You can avoid it by setting the environment variable OMP_NUM_THREADS=1.\n",
      "  warnings.warn(\n"
     ]
    }
   ],
   "source": [
    "import numpy as np\n",
    "import matplotlib.pyplot as plt\n",
    "from sklearn.cluster import KMeans\n",
    "\n",
    "# Step 2: Apply KMeans to SOM neurons\n",
    "n_clusters = 3\n",
    "kmeans = KMeans(n_clusters=n_clusters, random_state=42, n_init=10)\n",
    "cluster_labels = kmeans.fit_predict(flattened_weights)"
   ]
  },
  {
   "cell_type": "code",
   "execution_count": 20,
   "id": "8cb1c46d",
   "metadata": {},
   "outputs": [
    {
     "data": {
      "image/png": "[encoded data removed]",
      "text/plain": [
       "<Figure size 800x800 with 2 Axes>"
      ]
     },
     "metadata": {},
     "output_type": "display_data"
    }
   ],
   "source": [
    "# Step 3: Reshape labels back to SOM grid shape\n",
    "cluster_map = cluster_labels.reshape(width, height)\n",
    "\n",
    "# Step 4: Create a BMU hit map\n",
    "def find_bmu(input_vector, weights):\n",
    "    distances = np.linalg.norm(weights - input_vector, axis=2)\n",
    "    return np.unravel_index(np.argmin(distances), distances.shape)\n",
    "\n",
    "hit_map = np.zeros((width, height))\n",
    "for vector in input_data:\n",
    "    bmu_x, bmu_y = find_bmu(vector, som_weights)\n",
    "    hit_map[bmu_x, bmu_y] += 1\n",
    "\n",
    "# Step 5: Plot SOM cluster map with KMeans labels\n",
    "plt.figure(figsize=(8, 8))\n",
    "plt.imshow(cluster_map, cmap='Accent', interpolation='nearest')\n",
    "plt.title(\"SOM Grid with KMeans Cluster Labels\")\n",
    "plt.colorbar(label='Cluster Label')\n",
    "plt.xlabel(\"Neuron X\")\n",
    "plt.ylabel(\"Neuron Y\")\n",
    "plt.tight_layout()\n",
    "plt.show()"
   ]
  },
  {
   "cell_type": "code",
   "execution_count": 21,
   "id": "abee482d",
   "metadata": {},
   "outputs": [],
   "source": [
    "# # Elbow method to find optimal number of clusters\n",
    "# inertia_values = []\n",
    "# k_values = range(1, 11)\n",
    "\n",
    "# for k in k_values:\n",
    "#     kmeans = KMeans(n_clusters=k, random_state=42, n_init=10)\n",
    "#     kmeans.fit(flattened_weights)\n",
    "#     inertia_values.append(kmeans.inertia_)\n",
    "\n",
    "# # Plot the elbow curve\n",
    "# plt.figure(figsize=(8, 5))\n",
    "# plt.plot(k_values, inertia_values, marker='o')\n",
    "# plt.title('Elbow Method for Optimal k')\n",
    "# plt.xlabel('Number of Clusters (k)')\n",
    "# plt.ylabel('Inertia')\n",
    "# plt.grid(True)\n",
    "# plt.tight_layout()\n",
    "# plt.show()"
   ]
  },
  {
   "cell_type": "code",
   "execution_count": 22,
   "id": "c674dd2e",
   "metadata": {},
   "outputs": [
    {
     "data": {
      "text/plain": [
       "array([2, 2, 2, 2, 2, 2, 2, 0, 0, 0, 0, 0, 0, 0, 0, 2, 2, 2, 2, 2, 2, 2,\n",
       "       2, 0, 0, 0, 0, 0, 0, 0, 2, 2, 2, 2, 2, 2, 2, 2, 0, 0, 0, 0, 0, 0,\n",
       "       0, 2, 2, 2, 2, 2, 2, 2, 2, 0, 0, 0, 0, 0, 0, 0, 1, 1, 2, 2, 2, 2,\n",
       "       2, 2, 2, 0, 0, 0, 0, 0, 0, 1, 1, 2, 2, 2, 2, 2, 2, 2, 0, 0, 0, 0,\n",
       "       0, 0, 1, 1, 1, 2, 2, 2, 2, 2, 2, 0, 0, 0, 0, 0, 0, 1, 1, 1, 2, 2,\n",
       "       2, 2, 2, 2, 0, 0, 0, 0, 0, 0, 1, 1, 1, 2, 2, 2, 2, 2, 2, 0, 0, 0,\n",
       "       0, 0, 0, 1, 1, 1, 1, 2, 2, 2, 2, 0, 0, 0, 0, 0, 0, 0, 1, 1, 1, 1,\n",
       "       1, 2, 2, 2, 0, 0, 0, 0, 0, 0, 0, 1, 1, 1, 1, 1, 2, 2, 2, 0, 0, 0,\n",
       "       0, 0, 0, 0, 1, 1, 1, 1, 1, 2, 2, 2, 0, 0, 0, 0, 0, 0, 0, 1, 1, 1,\n",
       "       1, 1, 2, 2, 2, 0, 0, 0, 0, 0, 0, 0, 1, 1, 1, 1, 2, 2, 2, 2, 0, 0,\n",
       "       0, 0, 0, 0, 0])"
      ]
     },
     "execution_count": 22,
     "metadata": {},
     "output_type": "execute_result"
    }
   ],
   "source": [
    "cluster_labels"
   ]
  },
  {
   "cell_type": "code",
   "execution_count": 23,
   "id": "e52a1959",
   "metadata": {},
   "outputs": [],
   "source": [
    "# Predict function to assign cluster to each input data point\n",
    "def assign_clusters(data, som_weights, kmeans_model):\n",
    "    width, height, _ = som_weights.shape\n",
    "    cluster_indices = []\n",
    "\n",
    "    for vt in data:\n",
    "        bmu_idx = np.argmin(np.sum((som_weights - vt) ** 2, axis=2))\n",
    "        bmu_coords = np.unravel_index(bmu_idx, (width, height))\n",
    "        flat_bmu = bmu_coords[0] * height + bmu_coords[1]\n",
    "        cluster_label = kmeans_model.labels_[flat_bmu]\n",
    "        cluster_indices.append(cluster_label)\n",
    "\n",
    "    return np.array(cluster_indices)\n",
    "\n",
    "cluster_assignments = assign_clusters(input_data, som_weights, kmeans)"
   ]
  },
  {
   "cell_type": "code",
   "execution_count": 24,
   "id": "eb0f5b47",
   "metadata": {},
   "outputs": [
    {
     "data": {
      "text/plain": [
       "array([0, 0, 2, 0, 0, 0, 2, 0, 2, 0, 2, 0, 2, 0, 2, 0, 2, 0, 2, 0, 2, 0,\n",
       "       2, 0, 2, 0, 2, 0, 2, 0, 2, 0, 2, 0, 2, 0, 2, 0, 2, 0, 2, 0, 2, 0,\n",
       "       2, 0, 2, 0, 0, 0, 2, 0, 0, 2, 2, 2, 2, 2, 0, 2, 2, 0, 2, 2, 2, 0,\n",
       "       2, 2, 0, 0, 2, 2, 2, 2, 2, 0, 2, 2, 0, 2, 2, 0, 2, 2, 0, 2, 2, 0,\n",
       "       0, 2, 2, 0, 2, 2, 0, 0, 2, 0, 2, 0, 0, 2, 2, 0, 2, 0, 2, 2, 2, 2,\n",
       "       2, 0, 0, 0, 0, 0, 2, 2, 2, 2, 0, 0, 0, 0, 0, 0, 2, 0, 1, 0, 1, 0,\n",
       "       0, 0, 1, 0, 1, 0, 1, 0, 1, 0, 0, 0, 1, 0, 1, 0, 1, 0, 1, 0, 1, 0,\n",
       "       1, 0, 1, 0, 1, 0, 2, 0, 1, 0, 1, 0, 1, 0, 1, 0, 1, 0, 1, 0, 1, 0,\n",
       "       1, 0, 1, 0, 1, 0, 1, 0, 1, 0, 1, 0, 1, 0, 1, 0, 1, 0, 1, 0, 1, 0,\n",
       "       1, 0])"
      ]
     },
     "execution_count": 24,
     "metadata": {},
     "output_type": "execute_result"
    }
   ],
   "source": [
    "cluster_assignments"
   ]
  },
  {
   "cell_type": "code",
   "execution_count": 25,
   "id": "b72c99f0",
   "metadata": {},
   "outputs": [],
   "source": [
    "# Append cluster labels to scaled data\n",
    "scaled_with_clusters = np.hstack((input_data, cluster_assignments.reshape(-1, 1)))\n",
    "\n",
    "# Inverse transform the features (not the cluster labels)\n",
    "input_data_unscaled = scaler.inverse_transform(scaled_with_clusters[:, :-1])\n",
    "\n",
    "# Create final DataFrame with original values and cluster labels\n",
    "final_df = pd.DataFrame(input_data_unscaled, columns=[\"Age\", \"Annual Income (k$)\", \"Spending Score (1-100)\"])\n",
    "final_df[\"Cluster\"] = scaled_with_clusters[:, -1].astype(int)\n"
   ]
  },
  {
   "cell_type": "code",
   "execution_count": 26,
   "id": "8fff2f24",
   "metadata": {},
   "outputs": [
    {
     "data": {
      "text/html": [
       "<div>\n",
       "<style scoped>\n",
       "    .dataframe tbody tr th:only-of-type {\n",
       "        vertical-align: middle;\n",
       "    }\n",
       "\n",
       "    .dataframe tbody tr th {\n",
       "        vertical-align: top;\n",
       "    }\n",
       "\n",
       "    .dataframe thead th {\n",
       "        text-align: right;\n",
       "    }\n",
       "</style>\n",
       "<table border=\"1\" class=\"dataframe\">\n",
       "  <thead>\n",
       "    <tr style=\"text-align: right;\">\n",
       "      <th></th>\n",
       "      <th>Age</th>\n",
       "      <th>Annual Income (k$)</th>\n",
       "      <th>Spending Score (1-100)</th>\n",
       "      <th>Cluster</th>\n",
       "    </tr>\n",
       "  </thead>\n",
       "  <tbody>\n",
       "    <tr>\n",
       "      <th>0</th>\n",
       "      <td>19.000000</td>\n",
       "      <td>15.000000</td>\n",
       "      <td>39.000000</td>\n",
       "      <td>0</td>\n",
       "    </tr>\n",
       "    <tr>\n",
       "      <th>1</th>\n",
       "      <td>21.000000</td>\n",
       "      <td>15.000000</td>\n",
       "      <td>80.999999</td>\n",
       "      <td>0</td>\n",
       "    </tr>\n",
       "    <tr>\n",
       "      <th>2</th>\n",
       "      <td>20.000000</td>\n",
       "      <td>16.000000</td>\n",
       "      <td>6.000000</td>\n",
       "      <td>2</td>\n",
       "    </tr>\n",
       "    <tr>\n",
       "      <th>3</th>\n",
       "      <td>23.000000</td>\n",
       "      <td>16.000000</td>\n",
       "      <td>77.000000</td>\n",
       "      <td>0</td>\n",
       "    </tr>\n",
       "    <tr>\n",
       "      <th>4</th>\n",
       "      <td>30.999999</td>\n",
       "      <td>17.000001</td>\n",
       "      <td>40.000000</td>\n",
       "      <td>0</td>\n",
       "    </tr>\n",
       "    <tr>\n",
       "      <th>...</th>\n",
       "      <td>...</td>\n",
       "      <td>...</td>\n",
       "      <td>...</td>\n",
       "      <td>...</td>\n",
       "    </tr>\n",
       "    <tr>\n",
       "      <th>195</th>\n",
       "      <td>34.999999</td>\n",
       "      <td>120.000005</td>\n",
       "      <td>78.999999</td>\n",
       "      <td>0</td>\n",
       "    </tr>\n",
       "    <tr>\n",
       "      <th>196</th>\n",
       "      <td>45.000000</td>\n",
       "      <td>126.000005</td>\n",
       "      <td>27.999999</td>\n",
       "      <td>1</td>\n",
       "    </tr>\n",
       "    <tr>\n",
       "      <th>197</th>\n",
       "      <td>32.000000</td>\n",
       "      <td>126.000005</td>\n",
       "      <td>74.000002</td>\n",
       "      <td>0</td>\n",
       "    </tr>\n",
       "    <tr>\n",
       "      <th>198</th>\n",
       "      <td>32.000000</td>\n",
       "      <td>137.000007</td>\n",
       "      <td>18.000001</td>\n",
       "      <td>1</td>\n",
       "    </tr>\n",
       "    <tr>\n",
       "      <th>199</th>\n",
       "      <td>29.999999</td>\n",
       "      <td>137.000007</td>\n",
       "      <td>82.999998</td>\n",
       "      <td>0</td>\n",
       "    </tr>\n",
       "  </tbody>\n",
       "</table>\n",
       "<p>200 rows × 4 columns</p>\n",
       "</div>"
      ],
      "text/plain": [
       "           Age  Annual Income (k$)  Spending Score (1-100)  Cluster\n",
       "0    19.000000           15.000000               39.000000        0\n",
       "1    21.000000           15.000000               80.999999        0\n",
       "2    20.000000           16.000000                6.000000        2\n",
       "3    23.000000           16.000000               77.000000        0\n",
       "4    30.999999           17.000001               40.000000        0\n",
       "..         ...                 ...                     ...      ...\n",
       "195  34.999999          120.000005               78.999999        0\n",
       "196  45.000000          126.000005               27.999999        1\n",
       "197  32.000000          126.000005               74.000002        0\n",
       "198  32.000000          137.000007               18.000001        1\n",
       "199  29.999999          137.000007               82.999998        0\n",
       "\n",
       "[200 rows x 4 columns]"
      ]
     },
     "execution_count": 26,
     "metadata": {},
     "output_type": "execute_result"
    }
   ],
   "source": [
    "final_df"
   ]
  },
  {
   "cell_type": "code",
   "execution_count": 32,
   "id": "fbc10271",
   "metadata": {},
   "outputs": [
    {
     "data": {
      "text/html": [
       "<div>\n",
       "<style scoped>\n",
       "    .dataframe tbody tr th:only-of-type {\n",
       "        vertical-align: middle;\n",
       "    }\n",
       "\n",
       "    .dataframe tbody tr th {\n",
       "        vertical-align: top;\n",
       "    }\n",
       "\n",
       "    .dataframe thead tr th {\n",
       "        text-align: left;\n",
       "    }\n",
       "\n",
       "    .dataframe thead tr:last-of-type th {\n",
       "        text-align: right;\n",
       "    }\n",
       "</style>\n",
       "<table border=\"1\" class=\"dataframe\">\n",
       "  <thead>\n",
       "    <tr>\n",
       "      <th></th>\n",
       "      <th colspan=\"8\" halign=\"left\">Age</th>\n",
       "      <th colspan=\"5\" halign=\"left\">Annual Income (k$)</th>\n",
       "      <th colspan=\"8\" halign=\"left\">Spending Score (1-100)</th>\n",
       "    </tr>\n",
       "    <tr>\n",
       "      <th></th>\n",
       "      <th>count</th>\n",
       "      <th>mean</th>\n",
       "      <th>std</th>\n",
       "      <th>min</th>\n",
       "      <th>25%</th>\n",
       "      <th>50%</th>\n",
       "      <th>75%</th>\n",
       "      <th>max</th>\n",
       "      <th>count</th>\n",
       "      <th>mean</th>\n",
       "      <th>...</th>\n",
       "      <th>75%</th>\n",
       "      <th>max</th>\n",
       "      <th>count</th>\n",
       "      <th>mean</th>\n",
       "      <th>std</th>\n",
       "      <th>min</th>\n",
       "      <th>25%</th>\n",
       "      <th>50%</th>\n",
       "      <th>75%</th>\n",
       "      <th>max</th>\n",
       "    </tr>\n",
       "    <tr>\n",
       "      <th>Cluster</th>\n",
       "      <th></th>\n",
       "      <th></th>\n",
       "      <th></th>\n",
       "      <th></th>\n",
       "      <th></th>\n",
       "      <th></th>\n",
       "      <th></th>\n",
       "      <th></th>\n",
       "      <th></th>\n",
       "      <th></th>\n",
       "      <th></th>\n",
       "      <th></th>\n",
       "      <th></th>\n",
       "      <th></th>\n",
       "      <th></th>\n",
       "      <th></th>\n",
       "      <th></th>\n",
       "      <th></th>\n",
       "      <th></th>\n",
       "      <th></th>\n",
       "      <th></th>\n",
       "    </tr>\n",
       "  </thead>\n",
       "  <tbody>\n",
       "    <tr>\n",
       "      <th>0</th>\n",
       "      <td>99.0</td>\n",
       "      <td>28.555555</td>\n",
       "      <td>6.202735</td>\n",
       "      <td>18.0</td>\n",
       "      <td>23.000000</td>\n",
       "      <td>29.000001</td>\n",
       "      <td>32.000000</td>\n",
       "      <td>39.999999</td>\n",
       "      <td>99.0</td>\n",
       "      <td>60.727273</td>\n",
       "      <td>...</td>\n",
       "      <td>78.000001</td>\n",
       "      <td>137.000007</td>\n",
       "      <td>99.0</td>\n",
       "      <td>68.757576</td>\n",
       "      <td>18.202428</td>\n",
       "      <td>29.000002</td>\n",
       "      <td>53.999999</td>\n",
       "      <td>73.000002</td>\n",
       "      <td>84.000000</td>\n",
       "      <td>99.000002</td>\n",
       "    </tr>\n",
       "    <tr>\n",
       "      <th>1</th>\n",
       "      <td>33.0</td>\n",
       "      <td>41.212121</td>\n",
       "      <td>10.930912</td>\n",
       "      <td>19.0</td>\n",
       "      <td>34.000001</td>\n",
       "      <td>42.000001</td>\n",
       "      <td>47.000001</td>\n",
       "      <td>59.000000</td>\n",
       "      <td>33.0</td>\n",
       "      <td>89.030305</td>\n",
       "      <td>...</td>\n",
       "      <td>98.000000</td>\n",
       "      <td>137.000007</td>\n",
       "      <td>33.0</td>\n",
       "      <td>16.212121</td>\n",
       "      <td>9.486035</td>\n",
       "      <td>1.000000</td>\n",
       "      <td>10.000000</td>\n",
       "      <td>15.000001</td>\n",
       "      <td>22.000001</td>\n",
       "      <td>39.000000</td>\n",
       "    </tr>\n",
       "    <tr>\n",
       "      <th>2</th>\n",
       "      <td>68.0</td>\n",
       "      <td>52.691176</td>\n",
       "      <td>10.604501</td>\n",
       "      <td>20.0</td>\n",
       "      <td>47.000001</td>\n",
       "      <td>50.500000</td>\n",
       "      <td>60.749999</td>\n",
       "      <td>69.999998</td>\n",
       "      <td>68.0</td>\n",
       "      <td>46.499999</td>\n",
       "      <td>...</td>\n",
       "      <td>60.000000</td>\n",
       "      <td>79.000000</td>\n",
       "      <td>68.0</td>\n",
       "      <td>39.676471</td>\n",
       "      <td>16.211698</td>\n",
       "      <td>3.000000</td>\n",
       "      <td>34.249999</td>\n",
       "      <td>45.500000</td>\n",
       "      <td>51.000001</td>\n",
       "      <td>60.000002</td>\n",
       "    </tr>\n",
       "  </tbody>\n",
       "</table>\n",
       "<p>3 rows × 24 columns</p>\n",
       "</div>"
      ],
      "text/plain": [
       "          Age                                                               \\\n",
       "        count       mean        std   min        25%        50%        75%   \n",
       "Cluster                                                                      \n",
       "0        99.0  28.555555   6.202735  18.0  23.000000  29.000001  32.000000   \n",
       "1        33.0  41.212121  10.930912  19.0  34.000001  42.000001  47.000001   \n",
       "2        68.0  52.691176  10.604501  20.0  47.000001  50.500000  60.749999   \n",
       "\n",
       "                   Annual Income (k$)             ...                         \\\n",
       "               max              count       mean  ...        75%         max   \n",
       "Cluster                                           ...                          \n",
       "0        39.999999               99.0  60.727273  ...  78.000001  137.000007   \n",
       "1        59.000000               33.0  89.030305  ...  98.000000  137.000007   \n",
       "2        69.999998               68.0  46.499999  ...  60.000000   79.000000   \n",
       "\n",
       "        Spending Score (1-100)                                              \\\n",
       "                         count       mean        std        min        25%   \n",
       "Cluster                                                                      \n",
       "0                         99.0  68.757576  18.202428  29.000002  53.999999   \n",
       "1                         33.0  16.212121   9.486035   1.000000  10.000000   \n",
       "2                         68.0  39.676471  16.211698   3.000000  34.249999   \n",
       "\n",
       "                                          \n",
       "               50%        75%        max  \n",
       "Cluster                                   \n",
       "0        73.000002  84.000000  99.000002  \n",
       "1        15.000001  22.000001  39.000000  \n",
       "2        45.500000  51.000001  60.000002  \n",
       "\n",
       "[3 rows x 24 columns]"
      ]
     },
     "execution_count": 32,
     "metadata": {},
     "output_type": "execute_result"
    }
   ],
   "source": [
    "final_df.groupby('Cluster')[['Age',\t'Annual Income (k$)',\t'Spending Score (1-100)']].describe()"
   ]
  },
  {
   "cell_type": "code",
   "execution_count": null,
   "id": "2e57ceff",
   "metadata": {},
   "outputs": [],
   "source": [
    "''"
   ]
  }
 ],
 "metadata": {
  "kernelspec": {
   "display_name": "base",
   "language": "python",
   "name": "python3"
  },
  "language_info": {
   "codemirror_mode": {
    "name": "ipython",
    "version": 3
   },
   "file_extension": ".py",
   "mimetype": "text/x-python",
   "name": "python",
   "nbconvert_exporter": "python",
   "pygments_lexer": "ipython3",
   "version": "3.11.5"
  }
 },
 "nbformat": 4,
 "nbformat_minor": 5
}
